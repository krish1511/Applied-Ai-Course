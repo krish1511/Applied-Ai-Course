{
 "cells": [
  {
   "cell_type": "markdown",
   "metadata": {},
   "source": [
    "## B SAIKRISHNA"
   ]
  },
  {
   "cell_type": "markdown",
   "metadata": {},
   "source": [
    "## Python Assignment"
   ]
  },
  {
   "cell_type": "markdown",
   "metadata": {},
   "source": [
    "1. Write a function that inputs a number and prints the multiplication table of that number"
   ]
  },
  {
   "cell_type": "code",
   "execution_count": 40,
   "metadata": {},
   "outputs": [
    {
     "name": "stdout",
     "output_type": "stream",
     "text": [
      "12*1=12\n",
      "12*2=24\n",
      "12*3=36\n",
      "12*4=48\n",
      "12*5=60\n",
      "12*6=72\n",
      "12*7=84\n",
      "12*8=96\n",
      "12*9=108\n",
      "12*10=120\n"
     ]
    }
   ],
   "source": [
    "# Using For Loop\n",
    "\n",
    "def table(n):\n",
    "    for i in range(1,11):\n",
    "        print('{0}*{1}={2}'.format(n,i,n*i))\n",
    "table(12)"
   ]
  },
  {
   "cell_type": "code",
   "execution_count": 86,
   "metadata": {},
   "outputs": [
    {
     "name": "stdout",
     "output_type": "stream",
     "text": [
      "15*1=15\n",
      "15*2=30\n",
      "15*3=45\n",
      "15*4=60\n",
      "15*5=75\n",
      "15*6=90\n",
      "15*7=105\n",
      "15*8=120\n",
      "15*9=135\n",
      "15*10=150\n"
     ]
    }
   ],
   "source": [
    "# Using While Loop\n",
    "\n",
    "def table(n):\n",
    "    i = 1\n",
    "    while i<=10:\n",
    "        print('{0}*{1}={2}'.format(n,i,n*i))\n",
    "        i+=1\n",
    "table(15)"
   ]
  },
  {
   "cell_type": "markdown",
   "metadata": {},
   "source": [
    "2. Write a program to print twin primes less than 1000. If two consecutive odd numbers are\n",
    "both prime then they are known as twin primes"
   ]
  },
  {
   "cell_type": "code",
   "execution_count": 77,
   "metadata": {},
   "outputs": [
    {
     "name": "stdout",
     "output_type": "stream",
     "text": [
      "(3,5)\n",
      "(5,7)\n",
      "(11,13)\n",
      "(17,19)\n",
      "(29,31)\n",
      "(41,43)\n",
      "(59,61)\n",
      "(71,73)\n"
     ]
    }
   ],
   "source": [
    "def prime(num):\n",
    "    for i in range(2,num):\n",
    "        '''If num is divisible by any number between 2 and num. it is not prime. thus, return False else True'''\n",
    "        if num%i==0:                \n",
    "            return False\n",
    "    return True\n",
    "def prime_helper(start,end):\n",
    "    for i in range(start,end):\n",
    "        '''if the range is not divisible by any number. it is prime and add 2 to make consecutive odd numbers together'''\n",
    "        j=i+2\n",
    "        if(prime(i) and prime(j)):\n",
    "            '''if both conditions are true. they are two consecutive prime numbers. so they are known as twin primes'''\n",
    "            print('({},{})'.format(i,j))\n",
    "prime_helper(2,100)"
   ]
  },
  {
   "cell_type": "code",
   "execution_count": 94,
   "metadata": {},
   "outputs": [
    {
     "name": "stdout",
     "output_type": "stream",
     "text": [
      "(1,3)\n",
      "(3,5)\n",
      "(5,7)\n",
      "(11,13)\n",
      "(17,19)\n",
      "(29,31)\n",
      "(41,43)\n",
      "(59,61)\n",
      "(71,73)\n"
     ]
    }
   ],
   "source": [
    "def prime(n):\n",
    "    for i in range(2,n):\n",
    "        '''If num is divisible by any number between 2 and num. it is not prime. thus, return False else True'''\n",
    "        if n%i==0:\n",
    "            return False\n",
    "    return True\n",
    "def prime_helper(n):\n",
    "    for i in range(1,n):\n",
    "        '''if the range is not divisible by any number. it is prime and add 2 to make consecutive odd numbers together'''\n",
    "        if prime(i) and prime(i+2):\n",
    "            '''if both conditions are true. they are two consecutive prime numbers. so they are known as twin primes'''\n",
    "            print('({},{})'.format(i,i+2))\n",
    "prime_helper(100)"
   ]
  },
  {
   "cell_type": "markdown",
   "metadata": {},
   "source": [
    "3.Write a program to find out the prime factors of a number. Example: prime factors of 56 -\n",
    "2, 2, 2, 7"
   ]
  },
  {
   "cell_type": "code",
   "execution_count": 49,
   "metadata": {},
   "outputs": [
    {
     "name": "stdout",
     "output_type": "stream",
     "text": [
      "2\n",
      "2\n",
      "2\n",
      "7\n"
     ]
    }
   ],
   "source": [
    "from math import *\n",
    "def prime_factor(n):\n",
    "    # if the 'n' divides by 2, print the no of '2's that divides n\n",
    "    if n%2==0:\n",
    "        while n%2==0:\n",
    "            print(2)\n",
    "            n = n//2\n",
    "    # now should be odd. thus  range should starts from 3\n",
    "            \n",
    "    for i in range(3,int(sqrt(n)),2):\n",
    "        # if n divide by odd number, print the odd numbers simultaneousely\n",
    "        while n%i==0:\n",
    "            print(i)\n",
    "            n = n//i\n",
    "    # if n is a prime number, if n no is greater than 2, then it should print n\n",
    "    if n>2:\n",
    "        print(n)\n",
    "            \n",
    "prime_factor(56)    "
   ]
  },
  {
   "cell_type": "code",
   "execution_count": 50,
   "metadata": {},
   "outputs": [
    {
     "name": "stdout",
     "output_type": "stream",
     "text": [
      "2\n",
      "7\n",
      "7\n"
     ]
    }
   ],
   "source": [
    "def prime_factor(n):\n",
    "    if n%2==0:\n",
    "        while n%2==0:\n",
    "            print(2)\n",
    "            n = n//2\n",
    "    # if n value is less than 15 then go for this\n",
    "    for i in range(3,n,2):\n",
    "        while n%i==0:\n",
    "            print(i)\n",
    "            n = n//i\n",
    "    if n>2:\n",
    "        print(n)\n",
    "prime_factor(98)"
   ]
  },
  {
   "cell_type": "markdown",
   "metadata": {},
   "source": [
    "4. Write a program to implement these formulae of permutations and combinations.\n",
    "Number of permutations of n objects taken r at a time: p(n, r) = n! / (n-r)!. Number of\n",
    "combinations of n objects taken r at a time is: c(n, r) = n! / (r!*(n-r)!) = p(n,r) / r!\n"
   ]
  },
  {
   "cell_type": "code",
   "execution_count": 218,
   "metadata": {},
   "outputs": [
    {
     "data": {
      "text/plain": [
       "120"
      ]
     },
     "execution_count": 218,
     "metadata": {},
     "output_type": "execute_result"
    }
   ],
   "source": [
    "# Factorial Using recursion\n",
    "def fact(n):\n",
    "    if n==1:\n",
    "        return 1\n",
    "    return n*fact(n-1)\n",
    "fact(5)"
   ]
  },
  {
   "cell_type": "code",
   "execution_count": 222,
   "metadata": {},
   "outputs": [
    {
     "data": {
      "text/plain": [
       "120"
      ]
     },
     "execution_count": 222,
     "metadata": {},
     "output_type": "execute_result"
    }
   ],
   "source": [
    "# Factorial using loop\n",
    "def fact(n):\n",
    "    mul = 1\n",
    "    for i in range(2,n+1):\n",
    "        mul *= i\n",
    "    return mul\n",
    "fact(5)"
   ]
  },
  {
   "cell_type": "code",
   "execution_count": 226,
   "metadata": {},
   "outputs": [
    {
     "data": {
      "text/plain": [
       "40"
      ]
     },
     "execution_count": 226,
     "metadata": {},
     "output_type": "execute_result"
    }
   ],
   "source": [
    "# Permutation and combination\n",
    "\n",
    "def fact(n):\n",
    "    if n==1:\n",
    "        return 1\n",
    "    return n * fact(n-1)\n",
    "def permutation(n,r):\n",
    "    return (fact(n) // fact(r)*fact(n-r))\n",
    "permutation(5,3)"
   ]
  },
  {
   "cell_type": "markdown",
   "metadata": {},
   "source": [
    "5. Write a function that converts a decimal number to binary number"
   ]
  },
  {
   "cell_type": "code",
   "execution_count": 53,
   "metadata": {},
   "outputs": [
    {
     "name": "stdout",
     "output_type": "stream",
     "text": [
      "1010"
     ]
    }
   ],
   "source": [
    "# convert a decimal number to binary number using recursion\n",
    "def binaryNumber(n):\n",
    "    if n>1:\n",
    "        binaryNumber(n//2)\n",
    "    print(n%2,end='')\n",
    "binaryNumber(10)"
   ]
  },
  {
   "cell_type": "code",
   "execution_count": 261,
   "metadata": {},
   "outputs": [
    {
     "data": {
      "text/plain": [
       "'1010'"
      ]
     },
     "execution_count": 261,
     "metadata": {},
     "output_type": "execute_result"
    }
   ],
   "source": [
    "# convert a decimal number to binary number using function\n",
    "def binaryNumber(n):\n",
    "    return bin(n).replace('0b','')\n",
    "binaryNumber(10)"
   ]
  },
  {
   "cell_type": "markdown",
   "metadata": {},
   "source": [
    "6. Write a function cubesum() that accepts an integer and returns the sum of the cubes of\n",
    "individual digits of that number. Use this function to make functions PrintArmstrong() and\n",
    "isArmstrong() to print Armstrong numbers and to find whether is an Armstrong number."
   ]
  },
  {
   "cell_type": "code",
   "execution_count": 317,
   "metadata": {},
   "outputs": [
    {
     "name": "stdout",
     "output_type": "stream",
     "text": [
      "153\n",
      "370\n",
      "371\n",
      "407\n"
     ]
    }
   ],
   "source": [
    "def cubesum(x,y):\n",
    "    return x**y\n",
    "def printArmstrong(num):\n",
    "    for i in range(num):\n",
    "        n = i                  # n is a temperorary variable since i gets changes\n",
    "        result = 0             # result to store the calculated data\n",
    "        k = len(str(i))        # length of the digit\n",
    "        \n",
    "        while i!=0:\n",
    "            digit = i % 10     # eg: 153%10 == 3 \n",
    "            result = result + cubesum(digit,k)        # 0 + 3 ** 3\n",
    "            i = i // 10        # 153 // 10 == 15    to iterate again until the condition gets false\n",
    "            \n",
    "        if n == result:\n",
    "            if n < 10:\n",
    "                continue\n",
    "            print(n)\n",
    "printArmstrong(1000)\n",
    "            \n",
    "        "
   ]
  },
  {
   "cell_type": "code",
   "execution_count": 1,
   "metadata": {},
   "outputs": [
    {
     "name": "stdout",
     "output_type": "stream",
     "text": [
      "ArmStrong\n"
     ]
    }
   ],
   "source": [
    "def cubesum(x,y):\n",
    "    return x**y\n",
    "def printArmstrong(n):\n",
    "    temp = n\n",
    "    result = 0\n",
    "    k = len(str(n))\n",
    "    while n!=0:\n",
    "        digit = n % 10\n",
    "        result = result + cubesum(digit , k)\n",
    "        n = n // 10\n",
    "    return temp == result\n",
    "def isArmstrong(n):\n",
    "    if printArmstrong(n):\n",
    "        print('ArmStrong')\n",
    "    else:\n",
    "        print('not Armstrong')\n",
    "isArmstrong(153)"
   ]
  },
  {
   "cell_type": "markdown",
   "metadata": {},
   "source": [
    "7. Write a function prodDigits() that inputs a number and returns the product of digits of that\n",
    "number."
   ]
  },
  {
   "cell_type": "code",
   "execution_count": 283,
   "metadata": {},
   "outputs": [
    {
     "data": {
      "text/plain": [
       "12"
      ]
     },
     "execution_count": 283,
     "metadata": {},
     "output_type": "execute_result"
    }
   ],
   "source": [
    "def prodDigits(num):\n",
    "    result = 1\n",
    "    while num!= 0:         # until the num becomes 0 condition should satisfy\n",
    "        digit = num % 10   #  143 % 10 == 3  , 14 % 10 ==4 \n",
    "        result *= digit    # it multiplies the the digit\n",
    "        num = num // 10    #  143 // 10 ==14, 14 //10 ==1 , it pops out the last element\n",
    "    return result\n",
    "prodDigits(143)\n",
    "        "
   ]
  },
  {
   "cell_type": "markdown",
   "metadata": {},
   "source": [
    "8. If all digits of a number n are multiplied by each other repeating with the product, the one\n",
    "digit number obtained at last is called the multiplicative digital root of n. The number of\n",
    "times digits need to be multiplied to reach one digit is called the multiplicative\n",
    "persistance of n.\n",
    "Example: 86 -> 48 -> 32 -> 6 (MDR 6, MPersistence 3)\n",
    "341 -> 12->2 (MDR 2, MPersistence 2)\n",
    "Using the function prodDigits() of previous exercise write functions MDR() and\n",
    "MPersistence() that input a number and return its multiplicative digital root and\n",
    "multiplicative persistence respectively"
   ]
  },
  {
   "cell_type": "code",
   "execution_count": 63,
   "metadata": {},
   "outputs": [
    {
     "name": "stdout",
     "output_type": "stream",
     "text": [
      "[1, 4, 3]\n",
      "12\n",
      "2\n",
      "3\n"
     ]
    }
   ],
   "source": [
    "def prodDigits(num , digits = []):\n",
    "    while num != 0:\n",
    "        digits.append(num % 10)    # it gives the modulus of the number and adds it in the list\n",
    "        return prodDigits(num//10 , digits)    # by using recursion, it pops out the last element of the number\n",
    "    if num == 0:                   # if number becomes 0 then return digits\n",
    "        return digits\n",
    "    \n",
    "def MDR(digits):\n",
    "    mul = 1\n",
    "    while digits:                  \n",
    "        mul *= digits.pop()        # by using pop() it iterates until the last element in the number becomes 0\n",
    "    return mul\n",
    "\n",
    "def persistance(num, count = 0):\n",
    "    while num >= 10:\n",
    "        num = MDR(prodDigits(num))      # by using recursion , it keep on gives the last digit until to reach last even\n",
    "        count += 1\n",
    "        return persistance(num, count)\n",
    "    if num < 10:\n",
    "        return count\n",
    "result = prodDigits(341)\n",
    "print(result)                           #[1, 4, 3]\n",
    "\n",
    "print(MDR(result))                      # 12\n",
    "print(persistance(341))                 # 2\n",
    "print(persistance(86))                  # 3"
   ]
  },
  {
   "cell_type": "code",
   "execution_count": 48,
   "metadata": {},
   "outputs": [
    {
     "name": "stdout",
     "output_type": "stream",
     "text": [
      "12\n",
      "2\n"
     ]
    }
   ],
   "source": [
    "def prodDigits(num, digits = []):\n",
    "    while num != 0:\n",
    "        digits.append(num%10)\n",
    "        num = num // 10\n",
    "    return digits\n",
    "\n",
    "def MDR(digits , mul = 1):\n",
    "    while len(digits) > 0:\n",
    "        mul *= digits.pop()\n",
    "        return MDR(digits, mul)\n",
    "    \n",
    "    if len(digits) == 0:\n",
    "        return mul\n",
    "    \n",
    "def persistance(num, count = 0):\n",
    "    while num >= 10:\n",
    "        num = MDR(prodDigits(num))\n",
    "        count += 1\n",
    "        return persistance(num, count)\n",
    "    if num < 10:\n",
    "        return count\n",
    "num = 341\n",
    "result = prodDigits(num)\n",
    "print(MDR(result))               # 12\n",
    "print(persistance(num))          # 2 "
   ]
  },
  {
   "cell_type": "code",
   "execution_count": 43,
   "metadata": {},
   "outputs": [
    {
     "name": "stdout",
     "output_type": "stream",
     "text": [
      "12\n",
      "2\n",
      "3\n"
     ]
    }
   ],
   "source": [
    "def prodDigits(num):\n",
    "    result = 1\n",
    "    while num > 0:\n",
    "        digit = num % 10\n",
    "        result *= digit\n",
    "        num = num // 10\n",
    "    return result\n",
    "def persistance(num, count = 0):\n",
    "    while num >= 10:\n",
    "        num = prodDigits(num)\n",
    "        count += 1\n",
    "        return persistance(num, count)\n",
    "    if num < 10:\n",
    "        return count\n",
    "\n",
    "print(prodDigits(341))              # 12\n",
    "print(persistance(341))             # 2\n",
    "print(persistance(86))              # 3"
   ]
  },
  {
   "cell_type": "markdown",
   "metadata": {},
   "source": [
    "9. Write a function sumPdivisors() that finds the sum of proper divisors of a number. Proper\n",
    "divisors of a number are those numbers by which the number is divisible, except the\n",
    "number itself. For example proper divisors of 36 are 1, 2, 3, 4, 6, 9, 18"
   ]
  },
  {
   "cell_type": "code",
   "execution_count": 44,
   "metadata": {},
   "outputs": [
    {
     "data": {
      "text/plain": [
       "14"
      ]
     },
     "execution_count": 44,
     "metadata": {},
     "output_type": "execute_result"
    }
   ],
   "source": [
    "def divisors(n):\n",
    "    a=[]\n",
    "    for i in range(1,n):\n",
    "        if n%i==0:\n",
    "            a.append(i)\n",
    "    return a              #[1,2,11]\n",
    "\n",
    "def sumPDivisors(n):\n",
    "    sum=0\n",
    "    for i in divisors(n):\n",
    "        sum=sum+i\n",
    "    return sum\n",
    "sumPDivisors(22)          #1,2,11=22"
   ]
  },
  {
   "cell_type": "markdown",
   "metadata": {},
   "source": [
    "10. A number is called perfect if the sum of proper divisors of that number is equal to the\n",
    "number. For example 28 is perfect number, since 1+2+4+7+14=28. Write a program to\n",
    "print all the perfect numbers in a given range"
   ]
  },
  {
   "cell_type": "code",
   "execution_count": 64,
   "metadata": {},
   "outputs": [
    {
     "name": "stdout",
     "output_type": "stream",
     "text": [
      "6\n",
      "28\n",
      "496\n"
     ]
    }
   ],
   "source": [
    "def perfect(lower, upper):\n",
    "    for num in range(lower, upper+1):\n",
    "        result = 0\n",
    "        for i in range(1,num):\n",
    "            if num % i ==0:               # 6 % 1,2,3\n",
    "                result += i               #  1+2+3 = 6\n",
    "        if num == result :                # 6 == 6\n",
    "            print(num)\n",
    "perfect(1,1000)"
   ]
  },
  {
   "cell_type": "code",
   "execution_count": 65,
   "metadata": {},
   "outputs": [
    {
     "name": "stdout",
     "output_type": "stream",
     "text": [
      "perfect\n"
     ]
    }
   ],
   "source": [
    "def perfect(n):\n",
    "    sum=0\n",
    "    for i in range(1,n):\n",
    "        if n%i==0:\n",
    "            sum +=i\n",
    "    if n==sum:\n",
    "        print('perfect')\n",
    "    else:\n",
    "        print('not perfect')\n",
    "perfect(496)"
   ]
  },
  {
   "cell_type": "markdown",
   "metadata": {},
   "source": [
    "11. Two different numbers are called amicable numbers if the sum of the proper divisors of\n",
    "each is equal to the other number. For example 220 and 284 are amicable numbers.\n",
    "\n",
    "Sum of proper divisors of 220 = 1+2+4+5+10+11+20+22+44+55+110 = 284\n",
    "Sum of proper divisors of 284 = 1+2+4+71+142 = 220\n",
    "Write a function to print pairs of amicable numbers in a range"
   ]
  },
  {
   "cell_type": "code",
   "execution_count": 15,
   "metadata": {},
   "outputs": [
    {
     "name": "stdout",
     "output_type": "stream",
     "text": [
      "enter the num1 value284\n",
      "enter the num2 value220\n",
      "amicable number\n"
     ]
    }
   ],
   "source": [
    "def  amicable_number(num1 , num2):\n",
    "    sum1 = 0\n",
    "    sum2 = 0\n",
    "    for i in range(1, num1):\n",
    "        if num1 % i == 0:\n",
    "            sum1 += i\n",
    "            \n",
    "    for j in range(1, num2):\n",
    "        if num2 % j == 0:\n",
    "            sum2 += j\n",
    "            \n",
    "    if (sum1==num2 and sum2==num1):\n",
    "        print('amicable number')\n",
    "    else:\n",
    "        print('not amicable number')\n",
    "num1 = int(input('enter the num1 value'))\n",
    "num2 = int(input('enter the num2 value'))\n",
    "amicable_number(num1 ,num2)"
   ]
  },
  {
   "cell_type": "markdown",
   "metadata": {},
   "source": [
    "12. Write a program which can filter odd numbers in a list by using filter function"
   ]
  },
  {
   "cell_type": "code",
   "execution_count": 20,
   "metadata": {},
   "outputs": [
    {
     "data": {
      "text/plain": [
       "[1, 5, 3, 7, 9, 21]"
      ]
     },
     "execution_count": 20,
     "metadata": {},
     "output_type": "execute_result"
    }
   ],
   "source": [
    "def filter_odd(lst):\n",
    "    return list(filter(lambda n : n%2!=0 , lst))\n",
    "lst = [4,2,1,5,3,6,8,7,9,21]\n",
    "filter_odd(lst)"
   ]
  },
  {
   "cell_type": "markdown",
   "metadata": {},
   "source": [
    "13. Write a program which can map() to make a list whose elements are cube of elements in\n",
    "a given list"
   ]
  },
  {
   "cell_type": "code",
   "execution_count": 22,
   "metadata": {},
   "outputs": [
    {
     "data": {
      "text/plain": [
       "[6, 9, 12, 15, 18, 21, 24, 3]"
      ]
     },
     "execution_count": 22,
     "metadata": {},
     "output_type": "execute_result"
    }
   ],
   "source": [
    "def map_cube(lst):\n",
    "    return list(map(lambda n : n*3, lst))\n",
    "lst = [2,3,4,5,6,7,8,1]\n",
    "map_cube(lst)"
   ]
  },
  {
   "cell_type": "markdown",
   "metadata": {},
   "source": [
    "14. Write a program which can map() and filter() to make a list whose elements are cube of\n",
    "even number in a given list"
   ]
  },
  {
   "cell_type": "code",
   "execution_count": 69,
   "metadata": {},
   "outputs": [
    {
     "name": "stdout",
     "output_type": "stream",
     "text": [
      "[24, 6, 12, 6, 18, 30]\n"
     ]
    }
   ],
   "source": [
    "lst = [1,8,3,2,7,9,4,2,6,10,3,5]\n",
    "evens = list(filter(lambda n: n%2==0 , lst))\n",
    "#print(evens)\n",
    "cube = list(map(lambda n: n*3, evens))\n",
    "print(cube)"
   ]
  },
  {
   "cell_type": "code",
   "execution_count": 74,
   "metadata": {},
   "outputs": [
    {
     "data": {
      "text/plain": [
       "[24, 6, 12, 6, 18, 30]"
      ]
     },
     "execution_count": 74,
     "metadata": {},
     "output_type": "execute_result"
    }
   ],
   "source": [
    "def filter_even(lst):\n",
    "    return list(filter(lambda n : n%2==0 , lst))\n",
    "def map_cube(lst):\n",
    "    return list(map(lambda n : n*3, filter_even(lst)))\n",
    "lst = [1,8,3,2,7,9,4,2,6,10,3,5]\n",
    "#filter_even(lst)\n",
    "map_cube(lst)\n"
   ]
  }
 ],
 "metadata": {
  "kernelspec": {
   "display_name": "Python 3",
   "language": "python",
   "name": "python3"
  },
  "language_info": {
   "codemirror_mode": {
    "name": "ipython",
    "version": 3
   },
   "file_extension": ".py",
   "mimetype": "text/x-python",
   "name": "python",
   "nbconvert_exporter": "python",
   "pygments_lexer": "ipython3",
   "version": "3.7.4"
  }
 },
 "nbformat": 4,
 "nbformat_minor": 2
}
