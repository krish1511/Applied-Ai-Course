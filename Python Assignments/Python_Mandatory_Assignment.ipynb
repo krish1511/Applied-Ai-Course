{
 "cells": [
  {
   "cell_type": "markdown",
   "metadata": {
    "colab_type": "text",
    "id": "BurSaAFUzQf_"
   },
   "source": [
    "<h1>Python: without numpy or sklearn </h1>"
   ]
  },
  {
   "cell_type": "markdown",
   "metadata": {
    "colab_type": "text",
    "id": "R_M8ThqXzQgA"
   },
   "source": [
    "<h3> Q1: Given two matrices please print the product of those two matrices </h3>\n",
    "<pre>\n",
    "\n",
    "Ex 1: A   = [[1 3 4]\n",
    "             [2 5 7]\n",
    "             [5 9 6]]\n",
    "      B   = [[1 0 0]\n",
    "             [0 1 0]\n",
    "             [0 0 1]]\n",
    "      A*B = [[1 3 4]\n",
    "             [2 5 7]\n",
    "             [5 9 6]]\n",
    "\n",
    "     \n",
    "Ex 2: A   = [[1 2]\n",
    "             [3 4]]\n",
    "      B   = [[1 2 3 4 5]\n",
    "             [5 6 7 8 9]]\n",
    "      A*B = [[11 14 17 20 23]\n",
    "             [18 24 30 36 42]]\n",
    "             \n",
    "Ex 3: A   = [[1 2]\n",
    "             [3 4]]\n",
    "      B   = [[1 4]\n",
    "             [5 6]\n",
    "             [7 8]\n",
    "             [9 6]]\n",
    "      A*B =Not possible\n",
    "</pre>"
   ]
  },
  {
   "cell_type": "markdown",
   "metadata": {},
   "source": [
    "# Pythonic Method"
   ]
  },
  {
   "cell_type": "code",
   "execution_count": 14,
   "metadata": {},
   "outputs": [],
   "source": [
    "\n",
    "X = [[1,3,4],\n",
    "     [2,5,7],\n",
    "     [5,9,6]]\n",
    "\n",
    "Y=  [[1,0,0],\n",
    "    [0,1,0],\n",
    "    [0,0,1]]\n",
    "\n",
    "Z = [[1,2,3,4,5,6],\n",
    "     [7,8,9,10,11,12]]"
   ]
  },
  {
   "cell_type": "code",
   "execution_count": 15,
   "metadata": {
    "colab": {},
    "colab_type": "code",
    "id": "_EELp8o7zQgB"
   },
   "outputs": [
    {
     "name": "stdout",
     "output_type": "stream",
     "text": [
      "[[1, 3, 4], [2, 5, 7], [5, 9, 6]]\n"
     ]
    }
   ],
   "source": [
    "# write your python code here\n",
    "# you can take the above example as sample input for your program to test\n",
    "# it should work for any general input try not to hard code for only given input examples\n",
    "\n",
    "\n",
    "# you can free to change all these codes/structure\n",
    "# here A and B are list of lists\n",
    "\n",
    "def MulMatrix(a, b):\n",
    "    if len(a[0]) != len(b):\n",
    "        return print(\"Multiplication not possible\")\n",
    "        \n",
    "    # Create the result matrix and fill it with zeros\n",
    "    result=[]\n",
    "    \n",
    "    temp_row=len(b[0])*[0]\n",
    "    for r in range(len(a)):\n",
    "        result.append(temp_row[:])\n",
    "    for row_index in range(len(a)):\n",
    "        for col_index in range(len(b[0])):\n",
    "            sum=0\n",
    "            for k in range(len(a[0])):\n",
    "                sum=sum+a[row_index][k]*b[k][col_index]\n",
    "            result[row_index][col_index]=sum\n",
    "    return result\n",
    "\n",
    "print(MulMatrix(X, Y))        "
   ]
  },
  {
   "cell_type": "markdown",
   "metadata": {},
   "source": [
    "# Numpy Method"
   ]
  },
  {
   "cell_type": "code",
   "execution_count": 16,
   "metadata": {},
   "outputs": [
    {
     "name": "stdout",
     "output_type": "stream",
     "text": [
      "[[1 3 4]\n",
      " [2 5 7]\n",
      " [5 9 6]]\n"
     ]
    },
    {
     "ename": "ValueError",
     "evalue": "shapes (3,3) and (2,6) not aligned: 3 (dim 1) != 2 (dim 0)",
     "output_type": "error",
     "traceback": [
      "\u001b[1;31m---------------------------------------------------------------------------\u001b[0m",
      "\u001b[1;31mValueError\u001b[0m                                Traceback (most recent call last)",
      "\u001b[1;32m<ipython-input-16-ca20aa2ca32b>\u001b[0m in \u001b[0;36m<module>\u001b[1;34m\u001b[0m\n\u001b[0;32m      5\u001b[0m \u001b[1;33m\u001b[0m\u001b[0m\n\u001b[0;32m      6\u001b[0m \u001b[1;31m# Y (3X4) & Z (2X6) cannot be multiplied\u001b[0m\u001b[1;33m\u001b[0m\u001b[1;33m\u001b[0m\u001b[1;33m\u001b[0m\u001b[0m\n\u001b[1;32m----> 7\u001b[1;33m \u001b[0mprint\u001b[0m\u001b[1;33m(\u001b[0m\u001b[0mnp\u001b[0m\u001b[1;33m.\u001b[0m\u001b[0mdot\u001b[0m\u001b[1;33m(\u001b[0m\u001b[0mY\u001b[0m\u001b[1;33m,\u001b[0m\u001b[0mZ\u001b[0m\u001b[1;33m)\u001b[0m\u001b[1;33m)\u001b[0m\u001b[1;33m\u001b[0m\u001b[1;33m\u001b[0m\u001b[0m\n\u001b[0m",
      "\u001b[1;31mValueError\u001b[0m: shapes (3,3) and (2,6) not aligned: 3 (dim 1) != 2 (dim 0)"
     ]
    }
   ],
   "source": [
    "import numpy as np\n",
    "\n",
    "# X (3X3) & Y (3X4) can be multiplied\n",
    "print(np.dot(X,Y))\n",
    "\n",
    "# Y (3X4) & Z (2X6) cannot be multiplied  \n",
    "print(np.dot(Y,Z))"
   ]
  },
  {
   "cell_type": "markdown",
   "metadata": {
    "colab_type": "text",
    "id": "2ZMnHrwNzQgD"
   },
   "source": [
    "<h3> Q2: Select a number randomly with probability proportional to its magnitude from the given array of n elements</h3>\n",
    "\n",
    "consider an experiment, selecting an element from the list A randomly with probability proportional to its magnitude.\n",
    "assume we are doing the same experiment for 100 times with replacement, in each experiment you will print a number that is selected randomly from A.\n",
    "\n",
    "<pre>\n",
    "Ex 1: A = [0 5 27 6 13 28 100 45 10 79]\n",
    "let f(x) denote the number of times x getting selected in 100 experiments.\n",
    "f(100) > f(79) > f(45) > f(28) > f(27) > f(13) > f(10) > f(6) > f(5) > f(0)\n",
    "</pre>"
   ]
  },
  {
   "cell_type": "code",
   "execution_count": 8,
   "metadata": {
    "colab": {
     "base_uri": "https://localhost:8080/",
     "height": 313
    },
    "colab_type": "code",
    "executionInfo": {
     "elapsed": 1064,
     "status": "error",
     "timestamp": 1561186084915,
     "user": {
      "displayName": "Applied AI Course",
      "photoUrl": "https://lh5.googleusercontent.com/-9_3A9F-kDXs/AAAAAAAAAAI/AAAAAAAAACw/IprjYvUuoXQ/s64/photo.jpg",
      "userId": "00484516897554883881"
     },
     "user_tz": -330
    },
    "id": "Qh4J8ifYzQgD",
    "outputId": "72ed3154-1f9a-4500-881c-facf8957b9c6"
   },
   "outputs": [
    {
     "data": {
      "text/plain": [
       "[45,\n",
       " 100,\n",
       " 45,\n",
       " 79,\n",
       " 27,\n",
       " 100,\n",
       " 45,\n",
       " 28,\n",
       " 79,\n",
       " 28,\n",
       " 28,\n",
       " 79,\n",
       " 45,\n",
       " 100,\n",
       " 5,\n",
       " 100,\n",
       " 28,\n",
       " 100,\n",
       " 100,\n",
       " 100,\n",
       " 27,\n",
       " 79,\n",
       " 100,\n",
       " 10,\n",
       " 100,\n",
       " 79,\n",
       " 27,\n",
       " 79,\n",
       " 100,\n",
       " 45,\n",
       " 100,\n",
       " 100,\n",
       " 100,\n",
       " 100,\n",
       " 100,\n",
       " 100,\n",
       " 100,\n",
       " 79,\n",
       " 100,\n",
       " 100,\n",
       " 79,\n",
       " 100,\n",
       " 27,\n",
       " 100,\n",
       " 100,\n",
       " 100,\n",
       " 28,\n",
       " 100,\n",
       " 6,\n",
       " 5,\n",
       " 100,\n",
       " 100,\n",
       " 100,\n",
       " 100,\n",
       " 79,\n",
       " 45,\n",
       " 100,\n",
       " 10,\n",
       " 79,\n",
       " 45,\n",
       " 79,\n",
       " 45,\n",
       " 45,\n",
       " 45,\n",
       " 13,\n",
       " 45,\n",
       " 100,\n",
       " 79,\n",
       " 45,\n",
       " 100,\n",
       " 10,\n",
       " 100,\n",
       " 45,\n",
       " 100,\n",
       " 5,\n",
       " 79,\n",
       " 79,\n",
       " 100,\n",
       " 45,\n",
       " 100,\n",
       " 100,\n",
       " 100,\n",
       " 100,\n",
       " 79,\n",
       " 79,\n",
       " 100,\n",
       " 79,\n",
       " 45,\n",
       " 5,\n",
       " 28,\n",
       " 45,\n",
       " 100,\n",
       " 27,\n",
       " 100,\n",
       " 28,\n",
       " 28,\n",
       " 100,\n",
       " 13,\n",
       " 79,\n",
       " 79]"
      ]
     },
     "execution_count": 8,
     "metadata": {},
     "output_type": "execute_result"
    }
   ],
   "source": [
    "import random\n",
    "from itertools import accumulate\n",
    "from bisect import bisect\n",
    "\n",
    "A = [0,5,27,6,13,28,100,45,10,79]\n",
    "\n",
    "def propotional_sampling(A,n=100):\n",
    "    sum=0\n",
    "    for i in range(len(A)):\n",
    "        sum = sum + A[i]\n",
    "    \n",
    "    d_dash=[]\n",
    "    \n",
    "    for j in range(len(A)):\n",
    "        d_dash.append((A[j]/sum))\n",
    "    \n",
    "    #cumulative sum\n",
    "\n",
    "    d_bar = [*accumulate(d_dash)]\n",
    "    out = []\n",
    "    for _ in range(n):\n",
    "        i = random.uniform(0.0,1.0)                     \n",
    "        idx = bisect(d_bar, i)    \n",
    "        out.append(A[idx])\n",
    "    \n",
    "    return out\n",
    "\n",
    "propotional_sampling(A)"
   ]
  },
  {
   "cell_type": "markdown",
   "metadata": {
    "colab_type": "text",
    "id": "e323QFvPzQgF"
   },
   "source": [
    "<h3> Q3: Replace the digits in the string with #</h3>\n",
    "\n",
    "Consider a string that will have digits in that, we need to remove all the characters which are not digits and replace the digits with #\n",
    "<pre>\n",
    "Ex 1: A = 234                Output: ###\n",
    "Ex 2: A = a2b3c4             Output: ###\n",
    "Ex 3: A = abc                Output:   (empty string)\n",
    "Ex 5: A = #2a$#b%c%561#      Output: ####\n",
    "</pre>"
   ]
  },
  {
   "cell_type": "code",
   "execution_count": 17,
   "metadata": {
    "colab": {},
    "colab_type": "code",
    "id": "Ng2BGL2wzQgF"
   },
   "outputs": [
    {
     "name": "stdout",
     "output_type": "stream",
     "text": [
      "###\n",
      "###\n",
      "####\n",
      "\n"
     ]
    }
   ],
   "source": [
    "import re\n",
    "# write your python code here\n",
    "# you can take the above example as sample input for your program to test\n",
    "# it should work for any general input try not to hard code for only given input examples\n",
    "\n",
    "# you can free to change all these codes/structure\n",
    "# String: it will be the input to your program\n",
    "def replace_digits(String):\n",
    "    # write your code\n",
    "    String = re.sub(\"[^0-9]\",\"\",str(String))\n",
    "    String = re.sub('\\d','#',String)\n",
    "    return String # modified string which is after replacing the # with digits\n",
    "\n",
    "print(replace_digits('a2b3c4'))\n",
    "print(replace_digits('234'))\n",
    "print(replace_digits('#2a$#b%c%561#'))\n",
    "print(replace_digits('abc'))"
   ]
  },
  {
   "cell_type": "markdown",
   "metadata": {},
   "source": [
    "Reference :\n",
    "https://stackoverflow.com/questions/19084443/replacing-digits-with-str-replace\n",
    "https://stackoverflow.com/questions/961632/converting-integer-to-string\n",
    "https://stackoverflow.com/questions/1249388/removing-all-non-numeric-characters-from-string-in-python"
   ]
  },
  {
   "cell_type": "markdown",
   "metadata": {
    "colab_type": "text",
    "id": "VodlThpgzQgH"
   },
   "source": [
    "<h3> Q4: Students marks dashboard</h3>\n",
    "\n",
    "Consider the marks list of class students given in two lists <br>\n",
    "Students = ['student1','student2','student3','student4','student5','student6','student7','student8','student9','student10'] <br>\n",
    "Marks = [45, 78, 12, 14, 48, 43, 45, 98, 35, 80] <br>\n",
    "from the above two lists the Student[0] got Marks[0],  Student[1] got Marks[1] and so on. <br><br>\n",
    "\n",
    "Your task is to print the name of students\n",
    "\n",
    "<strong>a. Who got top 5 ranks, in the descending order of marks</strong> <br>\n",
    "<strong>b. Who got least 5 ranks, in the increasing order of marks</strong><br>\n",
    "<strong>d. Who got marks between  &gt;25th percentile &lt;75th percentile, in the increasing order of marks.</strong>\n",
    "\n",
    "<pre>\n",
    "Ex 1: \n",
    "Students=['student1','student2','student3','student4','student5','student6','student7','student8','student9','student10'] \n",
    "Marks = [45, 78, 12, 14, 48, 43, 47, 98, 35, 80]\n",
    "\n",
    "a. \n",
    "student8  98\n",
    "student10 80\n",
    "student2  78\n",
    "student5  48\n",
    "student7  47\n",
    "\n",
    "b.\n",
    "student3 12\n",
    "student4 14\n",
    "student9 35\n",
    "student6 43\n",
    "student1 45\n",
    "\n",
    "c.\n",
    "student9 35\n",
    "student6 43\n",
    "student1 45\n",
    "student7 47\n",
    "student5 48\n",
    "</pre>"
   ]
  },
  {
   "cell_type": "code",
   "execution_count": 5,
   "metadata": {
    "colab": {},
    "colab_type": "code",
    "id": "_eysEkwOzQgI"
   },
   "outputs": [
    {
     "name": "stdout",
     "output_type": "stream",
     "text": [
      "top_5_students\n",
      "student8: 98\n",
      "student10: 80\n",
      "student2: 78\n",
      "student5: 48\n",
      "student7: 47\n",
      "\n",
      "least_5_students\n",
      "student3: 12\n",
      "student4: 14\n",
      "student9: 35\n",
      "student6: 43\n",
      "student1: 45\n",
      "\n",
      "students_within_25_and_75\n",
      "student9: 35\n",
      "student6: 43\n",
      "student1: 45\n",
      "student7: 47\n",
      "student5: 48\n"
     ]
    }
   ],
   "source": [
    "# write your python code here\n",
    "# you can take the above example as sample input for your program to test\n",
    "# it should work for any general input try not to hard code for only given input examples\n",
    "Students=['student1','student2','student3','student4','student5','student6','student7','student8','student9','student10'] \n",
    "Marks = [45, 78, 12, 14, 48, 43, 47, 98, 35, 80]\n",
    "# you can free to change all these codes/structure\n",
    "def display_dash_board(students, marks):\n",
    "    dictionary = dict(zip(Students,Marks))\n",
    "    print('top_5_students')\n",
    "    for key, value in sorted(dictionary.items(), key=lambda item: item[1],reverse=True)[:5]:\n",
    "          print(\"%s: %s\" % (key, value))\n",
    "    print('\\nleast_5_students')\n",
    "    for key, value in sorted(dictionary.items(), key=lambda item: item[1])[:5]:\n",
    "          print(\"%s: %s\" % (key, value))\n",
    "        \n",
    "    #students_within_25_and_75 = # compute this\n",
    "    print('\\nstudents_within_25_and_75')\n",
    "    for key, value in sorted(dictionary.items(), key=lambda item: item[1]):\n",
    "      percentage = value * 100.0 / 100  # I assumed 100 as total marks \n",
    "      if 25 < percentage < 75 :\n",
    "            print(\"%s: %s\" % (key, value))\n",
    "\n",
    "display_dash_board(Students, Marks)\n"
   ]
  },
  {
   "cell_type": "markdown",
   "metadata": {},
   "source": [
    "Reference :\n",
    "https://stackoverflow.com/questions/209840/convert-two-lists-into-a-dictionary\n",
    "https://www.saltycrane.com/blog/2007/09/how-to-sort-python-dictionary-by-keys/\n",
    "https://stackoverflow.com/questions/16772071/sort-dict-by-value-python"
   ]
  },
  {
   "cell_type": "markdown",
   "metadata": {
    "colab_type": "text",
    "id": "I32BmjOGzQgJ"
   },
   "source": [
    "<h3> Q5: Find the closest points</h3>\n",
    "\n",
    "Consider you are given n data points in the form of list of tuples like S=[(x1,y1),(x2,y2),(x3,y3),(x4,y4),(x5,y5),..,(xn,yn)] and a point P=(p,q) <br> your task is to find 5 closest points(based on cosine distance) in S from P\n",
    "\n",
    "<br>Cosine distance between two points (x,y) and (p,q) is defined as $cos^{-1}(\\frac{(x\\cdot p+y\\cdot q)}{\\sqrt(x^2+y^2)\\cdot\\sqrt(p^2+q^2)})$\n",
    "<pre>\n",
    "Ex:\n",
    "\n",
    "S= [(1,2),(3,4),(-1,1),(6,-7),(0, 6),(-5,-8),(-1,-1)(6,0),(1,-1)]\n",
    "P= (3,-4)\n",
    "<img src='https://i.imgur.com/vIFPOcG.jpg', width=300>\n",
    "Output:\n",
    "(6,-7)\n",
    "(1,-1)\n",
    "(6,0)\n",
    "(-5,-8)\n",
    "(-1,-1)\n",
    "</pre>"
   ]
  },
  {
   "cell_type": "code",
   "execution_count": 6,
   "metadata": {
    "colab": {},
    "colab_type": "code",
    "id": "cJAvixOHzQgK"
   },
   "outputs": [
    {
     "name": "stdout",
     "output_type": "stream",
     "text": [
      "(6, -7): 0.06512516333438509\n",
      "(1, -1): 0.14189705460416438\n",
      "(6, 0): 0.9272952180016123\n",
      "(-5, -8): 1.2021004241368467\n",
      "(-1, -1): 1.4288992721907328\n"
     ]
    }
   ],
   "source": [
    "import math\n",
    "\n",
    "\n",
    "S= [(1,2),(3,4),(-1,1),(6,-7),(0, 6),(-5,-8),(-1,-1),(6,0),(1,-1)]\n",
    "\n",
    "P= (3,-4)\n",
    "\n",
    "dist = []\n",
    "\n",
    "def closest_points_to_p(S, P):\n",
    "  \n",
    "  for i in range(len(S)):\n",
    "    \n",
    "    d = math.acos(((S[i][0]*P[0])+(S[i][1]*P[1]))/((math.sqrt((S[i][0]**2)+(S[i][1]**2))) *(math.sqrt((P[0]**2)+(P[1]**2)))))\n",
    "\n",
    "    dist.append(d)\n",
    "\n",
    "closest_points_to_p(S, P)\n",
    "\n",
    "dictionary = dict(zip(S,dist))\n",
    "\n",
    "for key, value in sorted(dictionary.items(), key=lambda item: item[1])[:5]:\n",
    "  print(\"%s: %s\" % (key, value))\n"
   ]
  },
  {
   "cell_type": "markdown",
   "metadata": {},
   "source": [
    "Reference: \n",
    "https://stackoverflow.com/questions/6745464/inverse-cosine-in-python\n",
    "https://stackoverflow.com/questions/209840/convert-two-lists-into-a-dictionary"
   ]
  },
  {
   "cell_type": "markdown",
   "metadata": {
    "colab_type": "text",
    "id": "v6gI7N5tzQgL"
   },
   "source": [
    "<h3> Q6: Find which line separates oranges and apples</h3>\n",
    "\n",
    "Consider you are given two set of data points in the form of list of tuples like \n",
    "<pre>\n",
    "Red =[(R11,R12),(R21,R22),(R31,R32),(R41,R42),(R51,R52),..,(Rn1,Rn2)]\n",
    "Blue=[(B11,B12),(B21,B22),(B31,B32),(B41,B42),(B51,B52),..,(Bm1,Bm2)]\n",
    "</pre>\n",
    "and set of line equations(in the string format, i.e list of strings)\n",
    "<pre>\n",
    "Lines = [a1x+b1y+c1,a2x+b2y+c2,a3x+b3y+c3,a4x+b4y+c4,..,K lines]\n",
    "Note: You need to do string parsing here and get the coefficients of x,y and intercept.\n",
    "</pre>\n",
    "Your task here is to print \"YES\"/\"NO\" for each line given. You should print YES, if all the red points are one side of the line and blue points are on other side of the line, otherwise you should print NO.\n",
    "<pre>\n",
    "Ex:\n",
    "Red= [(1,1),(2,1),(4,2),(2,4), (-1,4)]\n",
    "Blue= [(-2,-1),(-1,-2),(-3,-2),(-3,-1),(1,-3)]\n",
    "Lines=[\"1x+1y+0\",\"1x-1y+0\",\"1x+0y-3\",\"0x+1y-0.5\"]\n",
    "<img src='https://i.imgur.com/DoQf7mE.jpg' width=400>\n",
    "Output:\n",
    "YES\n",
    "NO\n",
    "NO\n",
    "YES\n",
    "</pre>"
   ]
  },
  {
   "cell_type": "code",
   "execution_count": 5,
   "metadata": {
    "colab": {},
    "colab_type": "code",
    "id": "RN_X34WtzQgM"
   },
   "outputs": [
    {
     "name": "stdout",
     "output_type": "stream",
     "text": [
      "Yes\n",
      "No\n",
      "No\n",
      "Yes\n"
     ]
    }
   ],
   "source": [
    "Blue= [(-2,-1),(-1,-2),(-3,-2),(-3,-1),(1,-3)]\n",
    "Lines=[\"1x+1y+0\",\"1x-1y+0\",\"1x+0y-3\",\"0x+1y-0.5\"]\n",
    "Red= [(1,1),(2,1),(4,2),(2,4),(-1,4)]\n",
    "\n",
    "import re\n",
    "d_red = []\n",
    "d_blue= []\n",
    "final_red = []\n",
    "final_blue = []\n",
    "for line in Lines:\n",
    "    a, b, c = [float(x.strip()) for x in re.split('x|y', line)]\n",
    "    R = []\n",
    "    B= []\n",
    "    for i in range(len(Red)):\n",
    "        r = ((a*Red[i][0])+(b*Red[i][1])+c)\n",
    "        R.append(r)\n",
    "    d_red.append(R)\n",
    "    for _ in range(len(Blue)):\n",
    "        z = ((a*Blue[_][0])+ (b*Blue[_][1])+ c)\n",
    "        B.append(z)\n",
    "    d_blue.append(B)\n",
    "\n",
    "final_blue = [all(j < 0 for j in i) for i in d_blue]\n",
    "final_red = [all(k>0 for k in i) for i in d_red]\n",
    "\n",
    "for i in range(len(final_blue)):\n",
    "    if(final_blue[i]==True and final_red[i]==True):\n",
    "        print(\"Yes\")\n",
    "    else:\n",
    "        print('No')"
   ]
  },
  {
   "cell_type": "markdown",
   "metadata": {},
   "source": [
    "Reference : https://stackoverflow.com/questions/20229822/check-if-all-values-in-list-are-greater-than-a-certain-number\n",
    "https://stackoverflow.com/questions/57218697/getting-error-float-object-is-not-iterable-when-trying-to-check-if-values-in-t/57219138#57219138"
   ]
  },
  {
   "cell_type": "markdown",
   "metadata": {
    "colab_type": "text",
    "id": "_pJcGohbzQgO"
   },
   "source": [
    "<h3> Q7: Filling the missing values in the specified format</h3>\n",
    "\n",
    "You will be given a string with digits and '\\_'(missing value) symbols you have to replace the '\\_' symbols as explained \n",
    "\n",
    "<pre>\n",
    "Ex 1: _, _, _, 24 ==> 24/4, 24/4, 24/4, 24/4 i.e we. have distributed the 24 equally to all 4 places <br>\n",
    "Ex 2: 40, _, _, _, 60 ==> (60+40)/5,(60+40)/5,(60+40)/5,(60+40)/5,(60+40)/5 ==> 20, 20, 20, 20, 20 i.e. the sum of (60+40) is distributed qually to all 5 places<br>\n",
    "Ex 3: 80, _, _, _, _  ==> 80/5,80/5,80/5,80/5,80/5 ==> 16, 16, 16, 16, 16 i.e. the 80 is distributed qually to all 5 missing values that are right to it<br>\n",
    "Ex 4: _, _, 30, _, _, _, 50, _, _  \n",
    "==> we will fill the missing values from left to right \n",
    "    a. first we will distribute the 30 to left two missing values (10, 10, 10, _, _, _, 50, _, _)\n",
    "    b. now distribute the sum (10+50) missing values in between (10, 10, 12, 12, 12, 12, 12, _, _) \n",
    "    c. now we will distribute 12 to right side missing values (10, 10, 12, 12, 12, 12, 4, 4, 4)\n",
    "</pre>\n",
    "for a given string with comma seprate values, which will have both missing values numbers like ex: \"_, _, x, _, _, _\"\n",
    "you need fill the missing values\n",
    "\n",
    "Q: your program reads a string like ex: \"_, _, x, _, _, _\" and returns the filled sequence\n",
    "\n",
    "Ex: \n",
    "<pre>\n",
    "Input1: \"_,_,_,24\"\n",
    "Output1: 6,6,6,6\n",
    "\n",
    "Input2: \"40,_,_,_,60\"\n",
    "Output2: 20,20,20,20,20\n",
    "\n",
    "Input3: \"80,_,_,_,_\"\n",
    "Output3: 16,16,16,16,16\n",
    "\n",
    "Input4: \"_,_,30,_,_,_,50,_,_\"\n",
    "Output4: 10,10,12,12,12,12,4,4,4\n",
    "</pre>\n",
    "\n"
   ]
  },
  {
   "cell_type": "code",
   "execution_count": 6,
   "metadata": {
    "colab": {},
    "colab_type": "code",
    "id": "91z7aHTozQgO"
   },
   "outputs": [
    {
     "name": "stdout",
     "output_type": "stream",
     "text": [
      "['10.0', '10.0', '12.0', '12.0', '12.0', '12.0', '4.0', '4.0', '4.0']\n"
     ]
    }
   ],
   "source": [
    "def blanks(S):\n",
    "    a = S.split(',')\n",
    "    count = 0\n",
    "    middle_store = 0\n",
    "    # left\n",
    "    for i in range(len(a)):\n",
    "        if a[i] == '_':\n",
    "            count = count + 1  # find number of blanks to the left of a number\n",
    "        else:\n",
    "            for j in range(i + 1):\n",
    "                # if there are n blanks to the left of the number speard the number equal over n+1 spaces\n",
    "                a[j] = str((float(a[i]) / (count + 1)))\n",
    "            middle_store = i\n",
    "            middle_store_value = float(a[i])\n",
    "            break\n",
    "\n",
    "        # blanks in the middle\n",
    "    denominator = 1\n",
    "    flag = 0\n",
    "    for k in range(middle_store + 1, len(a)):\n",
    "        if a[k] != '_':\n",
    "            denominator = (k + 1 - middle_store)\n",
    "            flag = k\n",
    "            break\n",
    "    flag_value = float(a[flag])\n",
    "    for p in range(middle_store, flag + 1):\n",
    "        a[p] = str((middle_store_value+flag_value) / denominator)\n",
    "\n",
    "    # blanks at the right\n",
    "    last_value = float(a[flag])\n",
    "    for q in range(flag, len(a)):\n",
    "        a[q] = str(last_value / (len(a) - flag))\n",
    "\n",
    "    return a\n",
    "\n",
    "S=  \"_,_,30,_,_,_,50,_,_\"\n",
    "print(blanks(S))"
   ]
  },
  {
   "cell_type": "markdown",
   "metadata": {
    "colab_type": "text",
    "id": "RRsdP3MvzQgR"
   },
   "source": [
    "<h3> Q8: Find the probabilities</h3>\n",
    "\n",
    "You will be given a list of lists, each sublist will be of length 2 i.e. [[x,y],[p,q],[l,m]..[r,s]]\n",
    "consider its like a martrix of n rows and two columns\n",
    "1. The first column F will contain only 5 uniques values (F1, F2, F3, F4, F5)\n",
    "2. The second column S will contain only 3 uniques values (S1, S2, S3)\n",
    "<pre>\n",
    "your task is to find\n",
    "a. Probability of P(F=F1|S==S1), P(F=F1|S==S2), P(F=F1|S==S3)\n",
    "b. Probability of P(F=F2|S==S1), P(F=F2|S==S2), P(F=F2|S==S3)\n",
    "c. Probability of P(F=F3|S==S1), P(F=F3|S==S2), P(F=F3|S==S3)\n",
    "d. Probability of P(F=F4|S==S1), P(F=F4|S==S2), P(F=F4|S==S3)\n",
    "e. Probability of P(F=F5|S==S1), P(F=F5|S==S2), P(F=F5|S==S3)\n",
    "</pre>\n",
    "Ex:\n",
    "\n",
    "<pre>\n",
    "[[F1,S1],[F2,S2],[F3,S3],[F1,S2],[F2,S3],[F3,S2],[F2,S1],[F4,S1],[F4,S3],[F5,S1]]\n",
    "\n",
    "a. P(F=F1|S==S1)=1/4, P(F=F1|S==S2)=1/3, P(F=F1|S==S3)=0/3\n",
    "b. P(F=F2|S==S1)=1/4, P(F=F2|S==S2)=1/3, P(F=F2|S==S3)=1/3\n",
    "c. P(F=F3|S==S1)=0/4, P(F=F3|S==S2)=1/3, P(F=F3|S==S3)=1/3\n",
    "d. P(F=F4|S==S1)=1/4, P(F=F4|S==S2)=0/3, P(F=F4|S==S3)=1/3\n",
    "e. P(F=F5|S==S1)=1/4, P(F=F5|S==S2)=0/3, P(F=F5|S==S3)=0/3\n",
    "</pre>\n",
    "\n"
   ]
  },
  {
   "cell_type": "code",
   "execution_count": 21,
   "metadata": {
    "colab": {},
    "colab_type": "code",
    "id": "YACLYXRazQgR"
   },
   "outputs": [
    {
     "name": "stdout",
     "output_type": "stream",
     "text": [
      "Probability of P(F=F1|S==S1) = 0.25\n",
      "Probability of P(F=F1|S==S2) = 0.3333333333333333\n",
      "Probability of P(F=F1|S==S3) = 0.0\n",
      "Probability of P(F=F2|S==S1) = 0.25\n",
      "Probability of P(F=F2|S==S2) = 0.3333333333333333\n",
      "Probability of P(F=F2|S==S3) = 0.3333333333333333\n",
      "Probability of P(F=F3|S==S1) = 0.0\n",
      "Probability of P(F=F3|S==S2) = 0.3333333333333333\n",
      "Probability of P(F=F3|S==S3) = 0.3333333333333333\n",
      "Probability of P(F=F4|S==S1) = 0.25\n",
      "Probability of P(F=F4|S==S2) = 0.0\n",
      "Probability of P(F=F4|S==S3) = 0.3333333333333333\n",
      "Probability of P(F=F5|S==S1) = 0.25\n",
      "Probability of P(F=F5|S==S2) = 0.0\n",
      "Probability of P(F=F5|S==S3) = 0.0\n"
     ]
    }
   ],
   "source": [
    "# write your python code here\n",
    "# you can take the above example as sample input for your program to test\n",
    "# it should work for any general input try not to hard code for only given input strings\n",
    "# you can free to change all these codes/structure\n",
    "\n",
    "A = [['F1','S1'],['F2','S2'],['F3','S3'],['F1','S2'],['F2','S3'],['F3','S2'],['F2','S1'],['F4','S1'],['F4','S3'],['F5','S1']]\n",
    "\n",
    "dictionary1 = {\n",
    " 'F1S1':0,\n",
    " 'F2S1':0,\n",
    " 'F3S1':0,\n",
    " 'F4S1':0,\n",
    " 'F5S1':0,\n",
    " 'F1S2':0,\n",
    " 'F2S2':0,\n",
    " 'F3S2':0,\n",
    " 'F4S2':0,\n",
    " 'F5S2':0,\n",
    " 'F1S3':0,\n",
    " 'F2S3':0,\n",
    " 'F3S3':0,\n",
    " 'F4S3':0,\n",
    " 'F5S3':0,\n",
    "}\n",
    "\n",
    "dictionary2= {\n",
    " 'S1':0,\n",
    " 'S2':0,\n",
    " 'S3':0\n",
    "}\n",
    "\n",
    "def compute_conditional_probabilites(A):\n",
    "    for i in range(len(A)):\n",
    "        if(A[i][0]=='F1'and A[i][1]=='S1'):\n",
    "            dictionary1['F1S1'] = dictionary1['F1S1'] +1\n",
    "            dictionary2['S1'] = dictionary2['S1'] +1\n",
    "        if(A[i][0]=='F1'and A[i][1]=='S2'):\n",
    "            dictionary1['F1S2'] = dictionary1['F1S2'] +1\n",
    "            dictionary2['S2'] = dictionary2['S2'] +1\n",
    "        if(A[i][0]=='F1'and A[i][1]=='S3'):\n",
    "            dictionary1['F1S3'] = dictionary1['F1S3'] +1\n",
    "            dictionary2['S3'] = dictionary2['S3'] +1\n",
    "        if(A[i][0]=='F2'and A[i][1]=='S1'):\n",
    "            dictionary1['F2S1'] = dictionary1['F2S1'] +1\n",
    "            dictionary2['S1'] = dictionary2['S1'] +1\n",
    "        if(A[i][0]=='F2'and A[i][1]=='S2'):\n",
    "            dictionary1['F2S2'] = dictionary1['F2S2'] +1\n",
    "            dictionary2['S2'] = dictionary2['S2'] +1\n",
    "        if(A[i][0]=='F2'and A[i][1]=='S3'):\n",
    "            dictionary1['F2S3'] = dictionary1['F2S3'] +1\n",
    "            dictionary2['S3'] = dictionary2['S3'] +1\n",
    "        if(A[i][0]=='F3'and A[i][1]=='S1'):\n",
    "            dictionary1['F3S1'] = dictionary1['F3S1'] +1\n",
    "            dictionary2['S1'] = dictionary2['S1'] +1\n",
    "        if(A[i][0]=='F3'and A[i][1]=='S2'):\n",
    "            dictionary1['F3S2'] = dictionary1['F3S2'] +1\n",
    "            dictionary2['S2'] = dictionary2['S2'] +1\n",
    "        if(A[i][0]=='F3'and A[i][1]=='S3'):\n",
    "            dictionary1['F3S3'] = dictionary1['F3S3'] +1\n",
    "            dictionary2['S3'] = dictionary2['S3'] +1\n",
    "        if(A[i][0]=='F4'and A[i][1]=='S1'):\n",
    "            dictionary1['F4S1'] = dictionary1['F4S1'] +1\n",
    "            dictionary2['S1'] = dictionary2['S1'] +1\n",
    "        if(A[i][0]=='F4'and A[i][1]=='S2'):\n",
    "            dictionary1['F4S2'] = dictionary1['F4S2'] +1\n",
    "            dictionary2['S2'] = dictionary2['S2'] +1\n",
    "        if(A[i][0]=='F4'and A[i][1]=='S3'):\n",
    "            dictionary1['F4S3'] = dictionary1['F4S3'] +1\n",
    "            dictionary2['S3'] = dictionary2['S3'] +1\n",
    "        if(A[i][0]=='F5'and A[i][1]=='S1'):\n",
    "            dictionary1['F5S1'] = dictionary1['F5S1'] +1\n",
    "            dictionary2['S1'] = dictionary2['S1'] +1\n",
    "        if(A[i][0]=='F5'and A[i][1]=='S2'):\n",
    "            dictionary1['F5S2'] = dictionary1['F5S2'] +1\n",
    "            dictionary2['S2'] = dictionary2['S2'] +1\n",
    "        if(A[i][0]=='F5'and A[i][1]=='S3'):\n",
    "            dictionary1['F5S3'] = dictionary1['F5S3'] +1\n",
    "            dictionary2['S3'] = dictionary2['S3'] +1                                \n",
    "\n",
    "compute_conditional_probabilites(A)\n",
    "\n",
    "print('Probability of P(F=F1|S==S1) =',(dictionary1['F1S1']/dictionary2['S1']))\n",
    "print('Probability of P(F=F1|S==S2) =',(dictionary1['F1S2']/dictionary2['S2']))\n",
    "print('Probability of P(F=F1|S==S3) =',(dictionary1['F1S3']/dictionary2['S3']))\n",
    "print('Probability of P(F=F2|S==S1) =',(dictionary1['F2S1']/dictionary2['S1']))\n",
    "print('Probability of P(F=F2|S==S2) =',(dictionary1['F2S2']/dictionary2['S2']))\n",
    "print('Probability of P(F=F2|S==S3) =',(dictionary1['F2S3']/dictionary2['S3']))\n",
    "print('Probability of P(F=F3|S==S1) =',(dictionary1['F3S1']/dictionary2['S1']))\n",
    "print('Probability of P(F=F3|S==S2) =',(dictionary1['F3S2']/dictionary2['S2']))\n",
    "print('Probability of P(F=F3|S==S3) =',(dictionary1['F3S3']/dictionary2['S3']))\n",
    "print('Probability of P(F=F4|S==S1) =',(dictionary1['F4S1']/dictionary2['S1']))\n",
    "print('Probability of P(F=F4|S==S2) =',(dictionary1['F4S2']/dictionary2['S2']))\n",
    "print('Probability of P(F=F4|S==S3) =',(dictionary1['F4S3']/dictionary2['S3']))\n",
    "print('Probability of P(F=F5|S==S1) =',(dictionary1['F5S1']/dictionary2['S1']))\n",
    "print('Probability of P(F=F5|S==S2) =',(dictionary1['F5S2']/dictionary2['S2']))\n",
    "print('Probability of P(F=F5|S==S3) =',(dictionary1['F5S3']/dictionary2['S3']))"
   ]
  },
  {
   "cell_type": "markdown",
   "metadata": {
    "colab_type": "text",
    "id": "uI5OefuszQgT"
   },
   "source": [
    "<h3> Q9: Operations on sentences </h3>\n",
    "\n",
    "You will be given two sentances S1, S2 your task is to find \n",
    "<pre>\n",
    "a. Number of common words between S1, S2\n",
    "b. Words in S1 but not in S2\n",
    "c. Words in S2 but not in S1\n",
    "</pre>\n",
    "\n",
    "Ex: \n",
    "<pre>\n",
    "S1= \"the first column F will contain only 5 unique values\"\n",
    "S2= \"the second column S will contain only 3 unique values\"\n",
    "Output:\n",
    "a. 7\n",
    "b. ['first','F','5']\n",
    "c. ['second','S','3']\n",
    "</pre>"
   ]
  },
  {
   "cell_type": "code",
   "execution_count": 13,
   "metadata": {
    "colab": {},
    "colab_type": "code",
    "id": "6efRp-EizQgU"
   },
   "outputs": [
    {
     "name": "stdout",
     "output_type": "stream",
     "text": [
      "7\n",
      "['5', 'F', 'first']\n",
      "['3', 'second', 'S']\n",
      "None\n"
     ]
    }
   ],
   "source": [
    "# write your python code here\n",
    "# you can take the above example as sample input for your program to test\n",
    "# it should work for any general input try not to hard code for only given input strings\n",
    "# you can free to change all these codes/structure\n",
    "def string_features(S1, S2):\n",
    "    a=[]\n",
    "    b=[]\n",
    "    c=[]\n",
    "    for ch in S1.split():\n",
    "        for ch1 in S2.split():\n",
    "            if(ch ==ch1):\n",
    "                a.append(ch)\n",
    "    print(len(a))\n",
    "    b= list(set(S1.split())-set(S2.split()))\n",
    "    print(b)\n",
    "    c = list(set(S2.split())-set(S1.split()))\n",
    "    print(c)\n",
    "\n",
    "S1= \"the first column F will contain only 5 uniques values\"\n",
    "S2= \"the second column S will contain only 3 uniques values\"\n",
    "print(string_features(S1, S2))"
   ]
  },
  {
   "cell_type": "markdown",
   "metadata": {},
   "source": [
    "Reference:\n",
    "https://stackoverflow.com/questions/11938964/how-to-find-common-words-and-print-them-using-python-command\n",
    "https://www.geeksforgeeks.org/python-difference-two-lists/"
   ]
  },
  {
   "cell_type": "markdown",
   "metadata": {
    "colab_type": "text",
    "id": "tSajhVSIzQgV"
   },
   "source": [
    "<h3> Q10: Error Function</h3>\n",
    "\n",
    "You will be given a list of lists, each sublist will be of length 2 i.e. [[x,y],[p,q],[l,m]..[r,s]]\n",
    "consider its like a martrix of n rows and two columns\n",
    "\n",
    "a. the first column Y will contain interger values <br>\n",
    "b. the second column $Y_{score}$ will be having float values <br>\n",
    "Your task is to find the value of $f(Y,Y_{score}) = -1*\\frac{1}{n}\\Sigma_{for each Y,Y_{score} pair}(Ylog10(Y_{score})+(1-Y)log10(1-Y_{score}))$ here n is the number of rows in the matrix\n",
    "<pre>\n",
    "Ex:\n",
    "[[1, 0.4], [0, 0.5], [0, 0.9], [0, 0.3], [0, 0.6], [1, 0.1], [1, 0.9], [1, 0.8]]\n",
    "output:\n",
    "0.44982\n",
    "</pre>\n",
    "$\\frac{-1}{8}\\cdot((1\\cdot log_{10}(0.4)+0\\cdot log_{10}(0.6))+(0\\cdot log_{10}(0.5)+1\\cdot log_{10}(0.5)) + ... + (1\\cdot log_{10}(0.8)+0\\cdot log_{10}(0.2)) )$"
   ]
  },
  {
   "cell_type": "code",
   "execution_count": 11,
   "metadata": {
    "colab": {},
    "colab_type": "code",
    "id": "4zem9mM5zQgW"
   },
   "outputs": [
    {
     "name": "stdout",
     "output_type": "stream",
     "text": [
      "0.42430993457031635\n"
     ]
    }
   ],
   "source": [
    "# write your python code here\n",
    "# you can take the above example as sample input for your program to test\n",
    "# it should work for any general input try not to hard code for only given input strings\n",
    "\n",
    "import math\n",
    "\n",
    "A = [[1, 0.4], [0, 0.5], [0, 0.9], [0, 0.3], [0, 0.6], [1, 0.1], [1, 0.9], [1, 0.8]]\n",
    "\n",
    "def compute_log_loss(A):\n",
    "    sum = 0\n",
    "    for i in range(len(A)):\n",
    "        sum = sum + ((A[i][0] * math.log(A[i][1],10)) + ((1-A[i][0]) * (math.log(1-A[i][1],10))))\n",
    "    return sum \n",
    "\n",
    "print((compute_log_loss(A)/8)*(-1))\n",
    "\n"
   ]
  }
 ],
 "metadata": {
  "colab": {
   "name": "2. Python Mandatory Assignment.ipynb",
   "provenance": [],
   "version": "0.3.2"
  },
  "kernelspec": {
   "display_name": "Python 3",
   "language": "python",
   "name": "python3"
  },
  "language_info": {
   "codemirror_mode": {
    "name": "ipython",
    "version": 3
   },
   "file_extension": ".py",
   "mimetype": "text/x-python",
   "name": "python",
   "nbconvert_exporter": "python",
   "pygments_lexer": "ipython3",
   "version": "3.7.1"
  }
 },
 "nbformat": 4,
 "nbformat_minor": 1
}
